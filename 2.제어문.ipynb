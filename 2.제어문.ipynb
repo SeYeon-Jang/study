{
 "cells": [
  {
   "cell_type": "markdown",
   "metadata": {},
   "source": [
    "# for문"
   ]
  },
  {
   "cell_type": "code",
   "execution_count": 2,
   "metadata": {},
   "outputs": [],
   "source": [
    "x=10"
   ]
  },
  {
   "cell_type": "code",
   "execution_count": 3,
   "metadata": {},
   "outputs": [
    {
     "name": "stdout",
     "output_type": "stream",
     "text": [
      "x는 10입니다\n"
     ]
    }
   ],
   "source": [
    "if x==10:\n",
    "    print(\"x는 10입니다\")"
   ]
  },
  {
   "cell_type": "code",
   "execution_count": 4,
   "metadata": {},
   "outputs": [],
   "source": [
    "if x!=10:\n",
    "    print(\"x는 10이 아닙니다\")"
   ]
  },
  {
   "cell_type": "code",
   "execution_count": 5,
   "metadata": {},
   "outputs": [],
   "source": [
    "if x==10:\n",
    "    pass"
   ]
  },
  {
   "cell_type": "code",
   "execution_count": 6,
   "metadata": {},
   "outputs": [
    {
     "name": "stdout",
     "output_type": "stream",
     "text": [
      "x는 3보다 크고 20보다 작습니다\n"
     ]
    }
   ],
   "source": [
    "if x>3 and x<20:\n",
    "    print(\"x는 3보다 크고 20보다 작습니다\")"
   ]
  },
  {
   "cell_type": "code",
   "execution_count": 7,
   "metadata": {},
   "outputs": [
    {
     "name": "stdout",
     "output_type": "stream",
     "text": [
      "x는 3보다 큽니다\n",
      "x는 10보다 크거나 같습니다\n",
      "x는 20보다 작습니다\n"
     ]
    }
   ],
   "source": [
    "if x>3:\n",
    "    print(\"x는 3보다 큽니다\")\n",
    "    if x>=10:\n",
    "        print(\"x는 10보다 크거나 같습니다\")\n",
    "    if x<20:\n",
    "        print(\"x는 20보다 작습니다\")"
   ]
  },
  {
   "cell_type": "code",
   "execution_count": 13,
   "metadata": {},
   "outputs": [],
   "source": [
    "x=-10"
   ]
  },
  {
   "cell_type": "code",
   "execution_count": 14,
   "metadata": {},
   "outputs": [
    {
     "name": "stdout",
     "output_type": "stream",
     "text": [
      "x는 음수입니다\n"
     ]
    }
   ],
   "source": [
    "if x>5:\n",
    "    print(\"x는 5보다 큽니다\")\n",
    "elif x>2:\n",
    "    print(\"x는 2보다 큽니다\")\n",
    "elif x>0:\n",
    "    print(\"x는 0보다 큽니다\")\n",
    "else:\n",
    "    print(\"x는 음수입니다\")"
   ]
  },
  {
   "cell_type": "code",
   "execution_count": 15,
   "metadata": {},
   "outputs": [],
   "source": [
    "x=10"
   ]
  },
  {
   "cell_type": "code",
   "execution_count": 16,
   "metadata": {},
   "outputs": [
    {
     "name": "stdout",
     "output_type": "stream",
     "text": [
      "x는 0보다 큽니다\n"
     ]
    }
   ],
   "source": [
    "if x>0:\n",
    "    print(\"x는 0보다 큽니다\")\n",
    "elif x>2:\n",
    "    print(\"x는 2보다 큽니다\")\n",
    "elif x>8:\n",
    "    print(\"x는 8보다 큽니다\")\n",
    "else:\n",
    "    print(\"x는 음수입니다\")"
   ]
  },
  {
   "cell_type": "code",
   "execution_count": 17,
   "metadata": {},
   "outputs": [],
   "source": [
    "#연습문제1"
   ]
  },
  {
   "cell_type": "code",
   "execution_count": 25,
   "metadata": {},
   "outputs": [
    {
     "name": "stdout",
     "output_type": "stream",
     "text": [
      "점수1을입력하세요: -9\n",
      "점수2을입력하세요: 23\n",
      "점수3을입력하세요: 88\n"
     ]
    }
   ],
   "source": [
    "score1=int(input(\"점수1을입력하세요: \"))\n",
    "score2=int(input(\"점수2을입력하세요: \"))\n",
    "score3=int(input(\"점수3을입력하세요: \"))"
   ]
  },
  {
   "cell_type": "code",
   "execution_count": 26,
   "metadata": {},
   "outputs": [
    {
     "name": "stdout",
     "output_type": "stream",
     "text": [
      "잘못된 점수가 입력되었습니다.\n"
     ]
    }
   ],
   "source": [
    "if score1>0 and score2>0 and score3>0 and score1<=100 and score2<=100 and score3<=100:\n",
    "    if score1>65 and score2>65 and score3>65:\n",
    "        print(\"합격입니다\")\n",
    "    else:\n",
    "        print(\"불합격입니다\")\n",
    "else:\n",
    "        print(\"잘못된 점수가 입력되었습니다.\")"
   ]
  },
  {
   "cell_type": "code",
   "execution_count": 27,
   "metadata": {},
   "outputs": [
    {
     "name": "stdout",
     "output_type": "stream",
     "text": [
      "점수1: 44\n",
      "점수2: 88\n",
      "점수3: 444\n",
      "잘못된 점수가 입력되었습니다\n"
     ]
    }
   ],
   "source": [
    "a= input(\"점수1: \")\n",
    "b= input(\"점수2: \")\n",
    "c= input(\"점수3: \")\n",
    "\n",
    "a,b,c = map(int,[a,b,c])\n",
    "\n",
    "if(a not in range(101)) or (b not in range(101)) or (c not in range(101)):\n",
    "    print(\"잘못된 점수가 입력되었습니다\")\n",
    "elif a>65 and b>65 and c>65:\n",
    "    print(\"합격\")\n",
    "else:\n",
    "    print(\"불합격\")"
   ]
  },
  {
   "cell_type": "code",
   "execution_count": 30,
   "metadata": {},
   "outputs": [],
   "source": [
    "#연습문제2"
   ]
  },
  {
   "cell_type": "code",
   "execution_count": 34,
   "metadata": {},
   "outputs": [
    {
     "name": "stdout",
     "output_type": "stream",
     "text": [
      "정수를 입력해주세요.: 4\n",
      "4는 짝수입니다\n"
     ]
    }
   ],
   "source": [
    "a=int(input(\"정수를 입력해주세요.: \"))\n",
    "\n",
    "if a%2==1:\n",
    "    print(\"{}는 홀수입니다.\".format(a))\n",
    "else:\n",
    "    print(\"{}는 짝수입니다\".format(a))"
   ]
  },
  {
   "cell_type": "markdown",
   "metadata": {},
   "source": [
    "# for문"
   ]
  },
  {
   "cell_type": "code",
   "execution_count": 36,
   "metadata": {},
   "outputs": [
    {
     "name": "stdout",
     "output_type": "stream",
     "text": [
      "a\n",
      "b\n",
      "c\n"
     ]
    }
   ],
   "source": [
    "for i in {'a','b','c'}:\n",
    "    print (i)"
   ]
  },
  {
   "cell_type": "code",
   "execution_count": 37,
   "metadata": {},
   "outputs": [
    {
     "name": "stdout",
     "output_type": "stream",
     "text": [
      "O\n",
      "r\n",
      "a\n",
      "n\n",
      "g\n",
      "e\n"
     ]
    }
   ],
   "source": [
    "for i in 'Orange':\n",
    "    print(i)\n"
   ]
  },
  {
   "cell_type": "code",
   "execution_count": 38,
   "metadata": {},
   "outputs": [],
   "source": [
    "#연습문제1"
   ]
  },
  {
   "cell_type": "code",
   "execution_count": 40,
   "metadata": {
    "scrolled": true
   },
   "outputs": [
    {
     "name": "stdout",
     "output_type": "stream",
     "text": [
      "정수를 입력하세요: 5\n",
      "안녕\n",
      "안녕\n",
      "안녕\n",
      "안녕\n",
      "안녕\n"
     ]
    }
   ],
   "source": [
    "#1)\n",
    "num=int(input(\"정수를 입력하세요: \"))\n",
    "\n",
    "for i in range(num):\n",
    "    print(\"안녕\")"
   ]
  },
  {
   "cell_type": "code",
   "execution_count": 42,
   "metadata": {
    "scrolled": true
   },
   "outputs": [
    {
     "name": "stdout",
     "output_type": "stream",
     "text": [
      "정수를 입력하세요: 5\n",
      "\n",
      "*\n",
      "**\n",
      "***\n",
      "****\n",
      "*****\n"
     ]
    }
   ],
   "source": [
    "#2)\n",
    "num=int(input(\"정수를 입력하세요: \"))\n",
    "\n",
    "for i in range(num+1):\n",
    "    print(\"*\"*i)"
   ]
  },
  {
   "cell_type": "code",
   "execution_count": null,
   "metadata": {},
   "outputs": [],
   "source": []
  }
 ],
 "metadata": {
  "kernelspec": {
   "display_name": "Python 3",
   "language": "python",
   "name": "python3"
  },
  "language_info": {
   "codemirror_mode": {
    "name": "ipython",
    "version": 3
   },
   "file_extension": ".py",
   "mimetype": "text/x-python",
   "name": "python",
   "nbconvert_exporter": "python",
   "pygments_lexer": "ipython3",
   "version": "3.8.3"
  }
 },
 "nbformat": 4,
 "nbformat_minor": 4
}
